{
 "cells": [
  {
   "cell_type": "code",
   "execution_count": null,
   "id": "dd3aac5a",
   "metadata": {},
   "outputs": [],
   "source": [
    "import pandas as pd\n",
    "df1 = pd.read_csv('Step_4_final_formated_70_3_averages_no_outliers.csv')\n",
    "df2 = pd.read_csv('Step_9_70.3_Ironman_with_Water_temp_estimation.csv')"
   ]
  },
  {
   "cell_type": "code",
   "execution_count": null,
   "id": "c46a4599",
   "metadata": {},
   "outputs": [],
   "source": [
    "df1['Location'] = df1['Location'].str.strip()\n",
    "df1['Date'] = df1['Date'].str.strip()\n",
    "df2['Location'] = df2['Location'].str.strip()\n",
    "df2['Date'] = df2['Date'].str.strip()\n",
    "\n",
    "# List of columns to fill in df1 from df2 (excluding columns already present in df1)\n",
    "columns_to_fill = [\n",
    "    'longitude', 'latitude', 'location elevation', 'bike elevation', 'run elevation',\n",
    "    'max_temperature', 'temperature_10AM', 'min_temperature', 'relative_humidity',\n",
    "    'average_wind_speed', 'average_pressure', 'cloud_coverage', 'water_temperature',\n",
    "    'solar_radiation', 'WBGT'\n",
    "]\n",
    "\n",
    "# Merge df1 with df2 on Location and Date\n",
    "df1_filled = df1.merge(\n",
    "    df2[['Location', 'Date'] + columns_to_fill],\n",
    "    on=['Location', 'Date'],\n",
    "    how='left',\n",
    "    suffixes=('', '_df2')\n",
    ")\n",
    "\n",
    "# Fill missing values in df1 with values from df2\n",
    "for col in columns_to_fill:\n",
    "    df1_filled[col] = df1_filled[col].combine_first(df1_filled[f\"{col}_df2\"])\n",
    "    df1_filled.drop(columns=[f\"{col}_df2\"], inplace=True)"
   ]
  },
  {
   "cell_type": "code",
   "execution_count": null,
   "id": "7bd4e258",
   "metadata": {},
   "outputs": [],
   "source": [
    "df1_filled.head()"
   ]
  },
  {
   "cell_type": "code",
   "execution_count": null,
   "id": "7046abd5",
   "metadata": {},
   "outputs": [],
   "source": [
    "df1_filled.to_csv('Step_10_70_3_ironman.csv', index=False)"
   ]
  }
 ],
 "metadata": {
  "kernelspec": {
   "display_name": "Python 3",
   "language": "python",
   "name": "python3"
  },
  "language_info": {
   "codemirror_mode": {
    "name": "ipython",
    "version": 3
   },
   "file_extension": ".py",
   "mimetype": "text/x-python",
   "name": "python",
   "nbconvert_exporter": "python",
   "pygments_lexer": "ipython3",
   "version": "3.13.1"
  }
 },
 "nbformat": 4,
 "nbformat_minor": 5
}
